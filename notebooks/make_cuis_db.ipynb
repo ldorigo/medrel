{
 "cells": [
  {
   "cell_type": "code",
   "execution_count": 1,
   "metadata": {},
   "outputs": [],
   "source": [
    "from tqdm.auto import tqdm\n",
    "import sqlite3"
   ]
  },
  {
   "cell_type": "code",
   "execution_count": 8,
   "metadata": {},
   "outputs": [],
   "source": [
    "conn = sqlite3.connect('cuis.db')\n",
    "cursor = conn.cursor()"
   ]
  },
  {
   "cell_type": "code",
   "execution_count": 9,
   "metadata": {},
   "outputs": [],
   "source": [
    "create_cuis_query = \"\"\"\n",
    "CREATE TABLE IF NOT EXISTS cuis (\n",
    "    cui TEXT PRIMARY_KEY,\n",
    "    ignored BOOLEAN,\n",
    "    canonical_name TEXT\n",
    ")\n",
    "\"\"\"\n",
    "create_rels_query = \"\"\"\n",
    "CREATE TABLE IF NOT EXISTS relations (\n",
    "\n",
    "pmid_source varchar(15),\n",
    "sentence_source TEXT,\n",
    "first_sign_cui TEXT,\n",
    "first_sign_modifier INT CHECK (first_sign_modifier IN (-1,0,1)),\n",
    "second_sign_cui TEXT,\n",
    "second_sign_modifier INT CHECK (second_sign_modifier IN (-1,0,1)),\n",
    "\n",
    "relation_type TEXT CHECK (relation_type IN (\"cause\",\"correlation\")),\n",
    "FOREIGN KEY (first_sign_cui) REFERENCES cuis (cui),\n",
    "FOREIGN KEY (second_sign_cui) REFERENCES cuis (cui)\n",
    "\n",
    "PRIMARY KEY (sentence_source, first_sign_cui, second_sign_cui)\n",
    ")\n",
    "\"\"\"\n"
   ]
  },
  {
   "cell_type": "code",
   "execution_count": 10,
   "metadata": {},
   "outputs": [
    {
     "data": {
      "text/plain": [
       "<sqlite3.Cursor at 0x112a1a110>"
      ]
     },
     "execution_count": 10,
     "metadata": {},
     "output_type": "execute_result"
    }
   ],
   "source": [
    "cursor.execute(\"DROP TABLE IF EXISTS relations\")\n",
    "cursor.execute(\"DROP TABLE IF EXISTS cuis\")\n",
    "cursor.execute(create_cuis_query)\n",
    "cursor.execute(create_rels_query)"
   ]
  },
  {
   "cell_type": "code",
   "execution_count": 16,
   "metadata": {},
   "outputs": [],
   "source": [
    "def read_mrconso(path=None):\n",
    "    res = set()\n",
    "    if path is None:\n",
    "        path = \"/Users/ldorigo/Documents/UMLS/Documents/2018AB/META/MRCONSO.RRF\"\n",
    "    with open(path,\"r\") as mrc:\n",
    "        for line in tqdm(mrc, total = 10304539):\n",
    "            els = line.split(\"|\")[:-1]\n",
    "            ## only keep english terms:\n",
    "            if els[1] != 'ENG':\n",
    "                continue\n",
    "            ## ignore obsolete terms\n",
    "            if els[16] != 'N':\n",
    "                continue\n",
    "            ## only keep the preferred terms\n",
    "            if els[6] != 'Y':\n",
    "                continue\n",
    "                \n",
    "            res.add((els[0],None,els[14]))\n",
    "    return list(res)\n",
    "            "
   ]
  },
  {
   "cell_type": "code",
   "execution_count": 17,
   "metadata": {},
   "outputs": [
    {
     "data": {
      "application/vnd.jupyter.widget-view+json": {
       "model_id": "8ece9f4880ab41c7adcc3ab49eb920fe",
       "version_major": 2,
       "version_minor": 0
      },
      "text/plain": [
       "HBox(children=(IntProgress(value=0, max=10304539), HTML(value='')))"
      ]
     },
     "metadata": {},
     "output_type": "display_data"
    },
    {
     "name": "stdout",
     "output_type": "stream",
     "text": [
      "\n"
     ]
    }
   ],
   "source": [
    "vals = read_mrconso()"
   ]
  },
  {
   "cell_type": "code",
   "execution_count": 19,
   "metadata": {},
   "outputs": [
    {
     "data": {
      "text/plain": [
       "<sqlite3.Cursor at 0x112a1a110>"
      ]
     },
     "execution_count": 19,
     "metadata": {},
     "output_type": "execute_result"
    }
   ],
   "source": [
    "cursor.executemany('INSERT INTO cuis VALUES (?,?,?)',vals)"
   ]
  },
  {
   "cell_type": "code",
   "execution_count": 20,
   "metadata": {},
   "outputs": [],
   "source": [
    "conn.commit()"
   ]
  },
  {
   "cell_type": "code",
   "execution_count": 21,
   "metadata": {},
   "outputs": [],
   "source": [
    "del vals"
   ]
  },
  {
   "cell_type": "code",
   "execution_count": null,
   "metadata": {},
   "outputs": [],
   "source": []
  }
 ],
 "metadata": {
  "kernelspec": {
   "display_name": "Python [conda env:quickumls]",
   "language": "python",
   "name": "conda-env-quickumls-py"
  },
  "language_info": {
   "codemirror_mode": {
    "name": "ipython",
    "version": 3
   },
   "file_extension": ".py",
   "mimetype": "text/x-python",
   "name": "python",
   "nbconvert_exporter": "python",
   "pygments_lexer": "ipython3",
   "version": "3.6.8"
  }
 },
 "nbformat": 4,
 "nbformat_minor": 2
}
