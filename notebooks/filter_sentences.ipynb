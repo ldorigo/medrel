{
 "cells": [
  {
   "cell_type": "code",
   "execution_count": 10,
   "metadata": {},
   "outputs": [],
   "source": [
    "import spacy\n",
    "from spacy.matcher import Matcher\n",
    "import json\n",
    "from os.path import join\n",
    "from tqdm.auto import tqdm\n",
    "from QuickUMLS.quickumls import QuickUMLS\n",
    "\n",
    "from utils import (\n",
    "    extract_UMLS_types,\n",
    "    get_data_dir,\n",
    "    load_if_not_present,\n",
    "    QUICKUMLS_LOCATION_WIDGET, \n",
    "    save_df, \n",
    "    DATALOCATION_WIDGET, \n",
    "    SESSIONLOCATION_WIDGET\n",
    ")\n",
    "\n",
    "\n",
    "from abstract_manipulations import (\n",
    "    unicode2ascii, \n",
    "    load_unicode_mappings, \n",
    "    get_full_text, \n",
    "    replace_abstract_abbreviations,\n",
    "    get_relevant_text\n",
    ")\n",
    "\n",
    "from filter_sentences import (\n",
    "    get_abstract_generator,\n",
    "    get_relevant_sentences_generator,\n",
    "    get_sentence_generator,\n",
    "    get_relevant_sentences_generator\n",
    ")\n",
    "\n",
    "from abstracts_spacy import set_extensions,ner_on_abstract\n",
    "\n",
    "tqdm.pandas()\n",
    "\n"
   ]
  },
  {
   "cell_type": "code",
   "execution_count": 2,
   "metadata": {},
   "outputs": [
    {
     "name": "stdout",
     "output_type": "stream",
     "text": [
      "Enter the directory where data can be found.\n"
     ]
    },
    {
     "data": {
      "application/vnd.jupyter.widget-view+json": {
       "model_id": "52500f917e8e4c10a91796fbfe2cea35",
       "version_major": 2,
       "version_minor": 0
      },
      "text/plain": [
       "Text(value='data', description='Data location:')"
      ]
     },
     "metadata": {},
     "output_type": "display_data"
    },
    {
     "name": "stdout",
     "output_type": "stream",
     "text": [
      "Enter subdirectory for this specific session. If nonexistant it will be created.\n"
     ]
    },
    {
     "data": {
      "application/vnd.jupyter.widget-view+json": {
       "model_id": "d66d37e8d48745dfbcb10d1e4e2436b2",
       "version_major": 2,
       "version_minor": 0
      },
      "text/plain": [
       "Text(value='small_subset', description='Session location:')"
      ]
     },
     "metadata": {},
     "output_type": "display_data"
    }
   ],
   "source": [
    "print(\"Enter the directory where data can be found.\")\n",
    "display(DATALOCATION_WIDGET)\n",
    "print(\"Enter subdirectory for this specific session. If nonexistant it will be created.\")\n",
    "display(SESSIONLOCATION_WIDGET)"
   ]
  },
  {
   "cell_type": "code",
   "execution_count": 3,
   "metadata": {},
   "outputs": [],
   "source": [
    "nlp = spacy.load(\"en_core_sci_md\")"
   ]
  },
  {
   "cell_type": "code",
   "execution_count": 4,
   "metadata": {},
   "outputs": [],
   "source": [
    "if not spacy.tokens.Doc.has_extension(\"contains_relation_indicator\"):\n",
    "    spacy.tokens.Doc.set_extension(\"contains_relation_indicator\",default=False)\n",
    "\n",
    "if not spacy.tokens.Doc.has_extension(\"ignore\"):\n",
    "    spacy.tokens.Doc.set_extension(\"ignore\",default=False)"
   ]
  },
  {
   "cell_type": "code",
   "execution_count": 5,
   "metadata": {},
   "outputs": [
    {
     "name": "stderr",
     "output_type": "stream",
     "text": [
      "Loaded abstracts_noparens.csv from csv.\n"
     ]
    }
   ],
   "source": [
    "abstracts_noparens = None\n",
    "abstracts_noparens = load_if_not_present(\n",
    "    abstracts_noparens, \"abstracts_noparens.csv\")"
   ]
  },
  {
   "cell_type": "code",
   "execution_count": 6,
   "metadata": {},
   "outputs": [],
   "source": [
    "abstract_generator = get_abstract_generator(abstracts_noparens)"
   ]
  },
  {
   "cell_type": "code",
   "execution_count": 7,
   "metadata": {},
   "outputs": [],
   "source": [
    "abstract_doc_generator = nlp.pipe(abstract_generator,batch_size=32,disable=[\"ner\"],as_tuples=True)"
   ]
  },
  {
   "cell_type": "code",
   "execution_count": 8,
   "metadata": {},
   "outputs": [],
   "source": [
    "sent_generator = get_sentence_generator(abstract_doc_generator)"
   ]
  },
  {
   "cell_type": "code",
   "execution_count": 9,
   "metadata": {},
   "outputs": [],
   "source": [
    "rel_sent_generator = get_relevant_sentences_generator(sent_generator,nlp)"
   ]
  },
  {
   "cell_type": "markdown",
   "metadata": {},
   "source": [
    "Make a file with interesting sentences to train entity recognition:"
   ]
  },
  {
   "cell_type": "code",
   "execution_count": 15,
   "metadata": {},
   "outputs": [
    {
     "data": {
      "application/vnd.jupyter.widget-view+json": {
       "model_id": "5c8af26ae290464a87c7111a2f737d45",
       "version_major": 2,
       "version_minor": 0
      },
      "text/plain": [
       "HBox(children=(IntProgress(value=1, bar_style='info', max=1), HTML(value='')))"
      ]
     },
     "metadata": {},
     "output_type": "display_data"
    },
    {
     "name": "stdout",
     "output_type": "stream",
     "text": [
      "\n"
     ]
    }
   ],
   "source": [
    "with open(\"data/sessions/small_subset/relevant_sentences_and_pmid.jsonl\",\"w+\") as f:\n",
    "    for sentence,pmid in tqdm(rel_sent_generator):\n",
    "        obj = {\n",
    "            \"sentence\": sentence.text,\n",
    "            \"pmid\": pmid\n",
    "        }\n",
    "        js = json.dumps(obj)\n",
    "        f.write(js)\n",
    "        f.write(\"\\n\")\n"
   ]
  },
  {
   "cell_type": "code",
   "execution_count": null,
   "metadata": {},
   "outputs": [],
   "source": []
  }
 ],
 "metadata": {
  "kernelspec": {
   "display_name": "Python [conda env:quickumls]",
   "language": "python",
   "name": "conda-env-quickumls-py"
  },
  "language_info": {
   "codemirror_mode": {
    "name": "ipython",
    "version": 3
   },
   "file_extension": ".py",
   "mimetype": "text/x-python",
   "name": "python",
   "nbconvert_exporter": "python",
   "pygments_lexer": "ipython3",
   "version": "3.6.8"
  }
 },
 "nbformat": 4,
 "nbformat_minor": 2
}
