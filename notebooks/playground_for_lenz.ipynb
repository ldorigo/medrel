{
 "metadata": {
  "language_info": {
   "codemirror_mode": {
    "name": "ipython",
    "version": 3
   },
   "file_extension": ".py",
   "mimetype": "text/x-python",
   "name": "python",
   "nbconvert_exporter": "python",
   "pygments_lexer": "ipython3",
   "version": "3.9.5"
  },
  "orig_nbformat": 4,
  "kernelspec": {
   "name": "python3",
   "display_name": "Python 3.9.5 64-bit ('medrel_venv')"
  },
  "interpreter": {
   "hash": "52c24ce130123b73e535b85727369ba421882d979ff550b824b3bb79020884ed"
  }
 },
 "nbformat": 4,
 "nbformat_minor": 2,
 "cells": [
  {
   "cell_type": "code",
   "execution_count": 1,
   "metadata": {},
   "outputs": [],
   "source": [
    "# This cell is only to make it run for Luca, ignore\n",
    "import sys\n",
    "sys.path.remove('/home/ldorigo/scripts/biopython')\n",
    "sys.path.remove('/home/ldorigo/scripts/spaCy')"
   ]
  },
  {
   "cell_type": "code",
   "execution_count": 2,
   "metadata": {},
   "outputs": [],
   "source": [
    "# imports\n",
    "import itertools\n",
    "import argparse\n",
    "from typing import Generator\n",
    "from pathlib import Path\n",
    "from tqdm.std import tqdm\n",
    "import lib.pipe_pubmed as pipe_pubmed\n",
    "import lib.pipe_preprocessing as pipe_preprocessing\n",
    "import lib.pipe_spacy as pipe_spacy\n",
    "import lib.grammar_analysis as grammar_analysis\n",
    "import spacy"
   ]
  },
  {
   "cell_type": "code",
   "execution_count": null,
   "metadata": {},
   "outputs": [],
   "source": [
    "# Autoreload extension allows to automatically reload modules that are changed (so you don't need to restard jupyter if you change code)"
   ]
  },
  {
   "cell_type": "code",
   "execution_count": 20,
   "metadata": {},
   "outputs": [
    {
     "output_type": "stream",
     "name": "stdout",
     "text": [
      "The autoreload extension is already loaded. To reload it, use:\n  %reload_ext autoreload\n"
     ]
    }
   ],
   "source": [
    "%load_ext autoreload"
   ]
  },
  {
   "cell_type": "code",
   "execution_count": 21,
   "metadata": {},
   "outputs": [],
   "source": [
    "%autoreload 2"
   ]
  },
  {
   "source": [
    "## Choose the query to submit to pubmed \n"
   ],
   "cell_type": "markdown",
   "metadata": {}
  },
  {
   "cell_type": "code",
   "execution_count": 3,
   "metadata": {},
   "outputs": [],
   "source": [
    "query = \"spondylarthritis AND \\\"vitamin D\\\"\""
   ]
  },
  {
   "source": [
    "## Setup various generators"
   ],
   "cell_type": "markdown",
   "metadata": {}
  },
  {
   "cell_type": "code",
   "execution_count": null,
   "metadata": {},
   "outputs": [],
   "source": []
  },
  {
   "cell_type": "code",
   "execution_count": 10,
   "metadata": {},
   "outputs": [],
   "source": [
    "# Pubmed IDs corresponding to the query:\n",
    "total_ids, ids_generator = pipe_pubmed.get_pmids_generator(query=query)\n",
    "\n",
    "# Just to keep track of progress:\n",
    "def inner_gen() -> Generator[str, None, None]:\n",
    "    for progress, id in tqdm(ids_generator, total=total_ids):\n",
    "        yield id\n",
    "# Get raw abstracts from pubmed\n",
    "raw_abstracts_generator = pipe_pubmed.get_raw_abstracts_generator(inner_gen())\n",
    "\n",
    "# Convert them to text + metadata\n",
    "ag = pipe_pubmed.get_abstracts_generator(raw_abstracts_generator)\n",
    "\n",
    "# Preprocess (normalize unicode and whitespace and remove brackets)\n",
    "preprocessed_generator = pipe_preprocessing.get_preprocessed_abstracts_generator(ag)\n",
    "\n",
    "# Load language model\n",
    "nlp = spacy.load(\"en_core_sci_md\", exclude=[\"ner\"])\n",
    "\n",
    "# Parse abstracts into spacy docs\n",
    "raw_docs_generator = pipe_spacy.get_raw_doc_generator(preprocessed_generator, nlp)\n",
    "\n",
    "# Add metadata to the doc objects\n",
    "docs_generator = pipe_spacy.get_extended_doc_generator(raw_docs_generator)\n",
    "\n",
    "# First pass through the sentence to only consider sentences that may contain a relation\n",
    "relevant_sentences_generator = pipe_spacy.get_relevant_sentence_numbers_generator(\n",
    "    docs_generator\n",
    ")"
   ]
  },
  {
   "source": [
    "Make this into a list so you can play around with the parsing without needing to re-download everything each time:"
   ],
   "cell_type": "markdown",
   "metadata": {}
  },
  {
   "cell_type": "code",
   "execution_count": 11,
   "metadata": {},
   "outputs": [
    {
     "output_type": "stream",
     "name": "stderr",
     "text": [
      "100%|██████████| 96/96 [00:00<00:00, 183.00it/s]\n"
     ]
    }
   ],
   "source": [
    "docs_and_sents=  list(relevant_sentences_generator)"
   ]
  },
  {
   "source": [
    "And finally, extract relations from those sentences:"
   ],
   "cell_type": "markdown",
   "metadata": {}
  },
  {
   "cell_type": "code",
   "execution_count": 16,
   "metadata": {},
   "outputs": [],
   "source": [
    "doc_relations_generator = grammar_analysis.get_relations_generator(\n",
    "    docs_and_sents\n",
    ")"
   ]
  },
  {
   "source": [
    "The last iterator contains tuples of `(doc, Dict[int, Relations])` - i.e., one Doc corresponding to the abstract, the sentence numbers that contain relations and the relations found in those sentences. Example of how to see them:\n",
    "\n"
   ],
   "cell_type": "markdown",
   "metadata": {}
  },
  {
   "cell_type": "code",
   "execution_count": 17,
   "metadata": {},
   "outputs": [],
   "source": [
    "docrels = list(doc_relations_generator)"
   ]
  },
  {
   "cell_type": "code",
   "execution_count": 22,
   "metadata": {
    "tags": []
   },
   "outputs": [
    {
     "output_type": "stream",
     "name": "stdout",
     "text": [
      "\nAbstract: Vitamin D in ankylosing spondylitis: review and meta-analysis.\n\nFound relations:\n\nFor sentence \"\nThe higher levels of serum vitamin D were associated with a decreased risk of AS, and showed an inverse relationship with AS activity.\":\n[[serum, vitamin, D] (~)] <-> [[AS] (↓)]\n\nAbstract: Systematic review of association between vitamin D levels and susceptibility and disease activity of ankylosing spondylitis.\n\nFound relations:\n\nFor sentence \"\nCross-sectional studies using appropriate statistical analyses have highlighted that AS is associated with lower vitamin D concentrations.\":\n[[AS] (~)] <-> [[vitamin, D, concentrations] (↓)]\nFor sentence \"Within groups of AS patients there is some evidence that low vitamin D concentrations are associated with higher disease activity.\":\n[[vitamin, D, concentrations] (↓)] <-> [[disease, activity] (↑)]\n\nAbstract: Dietary habits in Japanese patients with psoriasis and psoriatic arthritis: Low intake of meat in psoriasis and high intake of vitamin A in psoriatic arthritis.\n\nFound relations:\n\nFor sentence \"Some patients are associated with arthritis.\":\n[[patients] (~)] <-> [[arthritis] (~)]\nFor sentence \"The logistic regression analysis showed that psoriasis was associated with high body mass index and low intake of meat.\":\n[[psoriasis] (~)] <-> [[body, mass, index] (↑)]\n\nAbstract: Advances in the treatment of uveitis in patients with spondyloarthritis - is it the time for biologic therapy?\n\nFound relations:\n\nFor sentence \"Conventional therapy of HLA-B27-associated AAU with local or systemic glucocorticoids and immunosuppressive drugs (sulfasalazine, methotrexate, azathioprine, etc.) in order to diminish the ocular inflammation is associated with many side effects, some of them being very severe and even life threatening.\":\n[[Conventional, therapy] (~)] <-> [[many, side, effects] (~)]\n[[Conventional, therapy] (~)] <-> [[side, effects] (~)]\n[[Conventional, therapy] (~)] <-> [[many, effects] (~)]\n[[Conventional, therapy] (~)] <-> [[effects] (~)]\n[[therapy] (~)] <-> [[many, side, effects] (~)]\n[[therapy] (~)] <-> [[side, effects] (~)]\n[[therapy] (~)] <-> [[many, effects] (~)]\n[[therapy] (~)] <-> [[effects] (~)]\n[[Conventional, therapy, of, HLA-B27-associated, AAU] (~)] <-> [[many, side, effects] (~)]\n[[Conventional, therapy, of, HLA-B27-associated, AAU] (~)] <-> [[side, effects] (~)]\n[[Conventional, therapy, of, HLA-B27-associated, AAU] (~)] <-> [[many, effects] (~)]\n[[Conventional, therapy, of, HLA-B27-associated, AAU] (~)] <-> [[effects] (~)]\n[[therapy, of, HLA-B27-associated, AAU] (~)] <-> [[many, side, effects] (~)]\n[[therapy, of, HLA-B27-associated, AAU] (~)] <-> [[side, effects] (~)]\n[[therapy, of, HLA-B27-associated, AAU] (~)] <-> [[many, effects] (~)]\n[[therapy, of, HLA-B27-associated, AAU] (~)] <-> [[effects] (~)]\n[[Conventional, therapy, of, AAU] (~)] <-> [[many, side, effects] (~)]\n[[Conventional, therapy, of, AAU] (~)] <-> [[side, effects] (~)]\n[[Conventional, therapy, of, AAU] (~)] <-> [[many, effects] (~)]\n[[Conventional, therapy, of, AAU] (~)] <-> [[effects] (~)]\n[[therapy, of, AAU] (~)] <-> [[many, side, effects] (~)]\n[[therapy, of, AAU] (~)] <-> [[side, effects] (~)]\n[[therapy, of, AAU] (~)] <-> [[many, effects] (~)]\n[[therapy, of, AAU] (~)] <-> [[effects] (~)]\n\nAbstract: Osteoporosis and osteoarthritis, rheumatoid arthritis and spondylarthropathies.\n\nFound relations:\n\nFor sentence \"With regard to rheumatoid arthritis, anticitrullinated peptide positivity without clinical arthritis as well as higher levels of interleukin-6 is associated with decreased bone mineral density and polymorphisms in the vitamin D receptor in RA patients may predispose to OP.\":\n[[anticitrullinated, peptide, positivity] (~)] <-> [[mineral, bone, density] (↓)]\n[[anticitrullinated, peptide, positivity] (~)] <-> [[bone, density] (↓)]\n[[anticitrullinated, peptide, positivity] (~)] <-> [[mineral, bone, density, in, vitamin, D, receptor] (↓)]\n[[anticitrullinated, peptide, positivity] (~)] <-> [[bone, density, in, vitamin, D, receptor] (↓)]\n[[peptide, positivity] (~)] <-> [[mineral, bone, density] (↓)]\n[[peptide, positivity] (~)] <-> [[bone, density] (↓)]\n[[peptide, positivity] (~)] <-> [[mineral, bone, density, in, vitamin, D, receptor] (↓)]\n[[peptide, positivity] (~)] <-> [[bone, density, in, vitamin, D, receptor] (↓)]\n[[anticitrullinated, peptide, positivity, without, clinical, arthritis] (~)] <-> [[mineral, bone, density] (↓)]\n[[anticitrullinated, peptide, positivity, without, clinical, arthritis] (~)] <-> [[bone, density] (↓)]\n[[anticitrullinated, peptide, positivity, without, clinical, arthritis] (~)] <-> [[mineral, bone, density, in, vitamin, D, receptor] (↓)]\n[[anticitrullinated, peptide, positivity, without, clinical, arthritis] (~)] <-> [[bone, density, in, vitamin, D, receptor] (↓)]\n[[peptide, positivity, without, clinical, arthritis] (~)] <-> [[mineral, bone, density] (↓)]\n[[peptide, positivity, without, clinical, arthritis] (~)] <-> [[bone, density] (↓)]\n[[peptide, positivity, without, clinical, arthritis] (~)] <-> [[mineral, bone, density, in, vitamin, D, receptor] (↓)]\n[[peptide, positivity, without, clinical, arthritis] (~)] <-> [[bone, density, in, vitamin, D, receptor] (↓)]\n[[anticitrullinated, peptide, positivity, without, arthritis] (~)] <-> [[mineral, bone, density] (↓)]\n[[anticitrullinated, peptide, positivity, without, arthritis] (~)] <-> [[bone, density] (↓)]\n[[anticitrullinated, peptide, positivity, without, arthritis] (~)] <-> [[mineral, bone, density, in, vitamin, D, receptor] (↓)]\n[[anticitrullinated, peptide, positivity, without, arthritis] (~)] <-> [[bone, density, in, vitamin, D, receptor] (↓)]\n[[peptide, positivity, without, arthritis] (~)] <-> [[mineral, bone, density] (↓)]\n[[peptide, positivity, without, arthritis] (~)] <-> [[bone, density] (↓)]\n[[peptide, positivity, without, arthritis] (~)] <-> [[mineral, bone, density, in, vitamin, D, receptor] (↓)]\n[[peptide, positivity, without, arthritis] (~)] <-> [[bone, density, in, vitamin, D, receptor] (↓)]\n\nAbstract: Polymorphisms of vitamin D receptor gene in Turkish familial psoriasis patients.\n\nFound relations:\n\nFor sentence \"In conclusion, we show that VDR gene TaqI polymorphism is associated with familial psoriasis in the Turkish population.\":\n[[VDR, gene, TaqI, polymorphism] (~)] <-> [[familial, psoriasis] (~)]\n[[VDR, gene, TaqI, polymorphism] (~)] <-> [[psoriasis] (~)]\n[[VDR, gene, TaqI, polymorphism] (~)] <-> [[familial, psoriasis, in, Turkish, population] (~)]\n[[VDR, gene, TaqI, polymorphism] (~)] <-> [[psoriasis, in, Turkish, population] (~)]\n[[VDR, gene, TaqI, polymorphism] (~)] <-> [[familial, psoriasis, in, population] (~)]\n[[VDR, gene, TaqI, polymorphism] (~)] <-> [[psoriasis, in, population] (~)]\n\nAbstract: Relationship between disease activity and serum levels of vitamin D metabolites and parathyroid hormone in ankylosing spondylitis.\n\nFound relations:\n\nFor sentence \"These results indicate that high disease activity in AS is associated with an alteration in vitamin D metabolism and increased bone resorption.\":\n[[disease, activity] (↑)] <-> [[alteration] (~)]\n[[disease, activity] (↑)] <-> [[alteration, in, vitamin, D, metabolism] (~)]\n[[disease, activity, in, AS] (↑)] <-> [[alteration] (~)]\n[[disease, activity, in, AS] (↑)] <-> [[alteration, in, vitamin, D, metabolism] (~)]\n\nAbstract: Vitamin D, disease activity and comorbidities in early spondyloarthritis.\n\nFound relations:\n\nFor sentence \"Vitamin D deficiency was associated with higher disease activity and severity and presence of metabolic syndrome.\":\n[[Vitamin, D, deficiency] (~)] <-> [[disease, activity] (↑)]\n[[Vitamin, D, deficiency] (~)] <-> [[disease, activity, of, metabolic, syndrome] (↑)]\n[[Vitamin, D, deficiency] (~)] <-> [[disease, activity, of, syndrome] (↑)]\n\nAbstract: Associations of vitamin d binding protein gene polymorphisms with the development of peripheral arthritis and uveitis in ankylosing spondylitis.\n\nFound relations:\n\nFor sentence \"On the haplotype analyses, haplotype 2 (AGGA) protected against the development of peripheral arthritis (p = 0.01) and haplotype 3 (GAAG) was associated with an increased likelihood of uveitis (p = 0.02).\":\n[[haplotype, analyses] (~)] <-> [[likelihood] (↑)]\n[[haplotype, analyses] (~)] <-> [[likelihood, of, uveitis] (↑)]\nFor sentence \"\nDBP gene polymorphisms are associated with the development of peripheral arthritis and uveitis in Korean patients with AS.\":\n[[\n, DBP, gene, polymorphisms] (~)] <-> [[peripheral, arthritis] (~)]\n[[\n, DBP, gene, polymorphisms] (~)] <-> [[arthritis] (~)]\n[[DBP, gene, polymorphisms] (~)] <-> [[peripheral, arthritis] (~)]\n[[DBP, gene, polymorphisms] (~)] <-> [[arthritis] (~)]\n\nAbstract: Assessment of fracture risk in patients with spondyloarthritis using the FRAX scores.\n\nFound relations:\n\nFor sentence \"\nThe MOF score, in patient's wih SA, was associated with bone loss, age at disease onset and ASDASCRP.\":\n[[\n, MOF, score] (~)] <-> [[bone, loss] (~)]\n[[MOF, score] (~)] <-> [[bone, loss] (~)]\nFor sentence \"The HF score was associated with age, Vitamine D deficiency, age at disease onset, high hip BASRI and high ESR.\":\n[[HF, score] (~)] <-> [[age] (~)]\n\nAbstract: Association of 25-hydroxyvitamin D serum levels and metabolic parameters in psoriatic patients with and without arthritis.\n\nFound relations:\n\nFor sentence \"Vitamin-D deficiency has been associated with metabolic syndrome, cardiovascular disease, and psoriasis.\":\n[[Vitamin-D, deficiency] (~)] <-> [[metabolic, syndrome] (~)]\n[[Vitamin-D, deficiency] (~)] <-> [[syndrome] (~)]\n\nAbstract: Low Vitamin D Levels Predict Mortality in Ankylosing Spondylitis Patients: A Nationwide Population-Based Cohort Study.\n\nFound relations:\n\nFor sentence \"AS was associated with a higher proportion of vitamin D deficiency (odds ratio 1.27 ).\":\n[[AS] (~)] <-> [[vitamin, D, deficiency] (↑)]\n\nAbstract: Lower concentration of vitamin D is associated with lower DAS28 and VAS-pain scores in patients with inflammatory rheumatic diseases treated with infliximab: a pilot study.\n\nFound relations:\n\nFor sentence \"Lower initial concentration of 25(OH)D in patients treated with infliximab was associated with better improvement of clinical measures (DAS28 and VAS) of disease after 9 months of therapy.\":\n[[initial, concentration] (↓)] <-> [[improvement] (↑)]\n[[initial, concentration] (↓)] <-> [[improvement, of, clinical, measures] (↑)]\n[[initial, concentration] (↓)] <-> [[improvement, of, measures] (↑)]\n[[initial, concentration] (↓)] <-> [[improvement, of, clinical, measures, of, disease] (↑)]\n[[initial, concentration] (↓)] <-> [[improvement, of, measures, of, disease] (↑)]\n[[concentration] (↓)] <-> [[improvement] (↑)]\n[[concentration] (↓)] <-> [[improvement, of, clinical, measures] (↑)]\n[[concentration] (↓)] <-> [[improvement, of, measures] (↑)]\n[[concentration] (↓)] <-> [[improvement, of, clinical, measures, of, disease] (↑)]\n[[concentration] (↓)] <-> [[improvement, of, measures, of, disease] (↑)]\n[[initial, concentration, of, 25(OH)D] (↓)] <-> [[improvement] (↑)]\n[[initial, concentration, of, 25(OH)D] (↓)] <-> [[improvement, of, clinical, measures] (↑)]\n[[initial, concentration, of, 25(OH)D] (↓)] <-> [[improvement, of, measures] (↑)]\n[[initial, concentration, of, 25(OH)D] (↓)] <-> [[improvement, of, clinical, measures, of, disease] (↑)]\n[[initial, concentration, of, 25(OH)D] (↓)] <-> [[improvement, of, measures, of, disease] (↑)]\n[[concentration, of, 25(OH)D] (↓)] <-> [[improvement] (↑)]\n[[concentration, of, 25(OH)D] (↓)] <-> [[improvement, of, clinical, measures] (↑)]\n[[concentration, of, 25(OH)D] (↓)] <-> [[improvement, of, measures] (↑)]\n[[concentration, of, 25(OH)D] (↓)] <-> [[improvement, of, clinical, measures, of, disease] (↑)]\n[[concentration, of, 25(OH)D] (↓)] <-> [[improvement, of, measures, of, disease] (↑)]\n\nAbstract: Associations between vitamin D receptor gene polymorphisms and ankylosing spondylitis in Chinese Han population: a case-control study.\n\nFound relations:\n\nFor sentence \"We assessed whether the vitamin D receptor gene polymorphisms (FokI, BsmI, ApaI, and TaqI) were associated with ankylosing spondylitis (AS) in a Chinese Han population.\":\n[[vitamin, D, receptor, gene, polymorphisms] (~)] <-> [[ankylosing, spondylitis] (~)]\n[[vitamin, D, receptor, gene, polymorphisms] (~)] <-> [[spondylitis] (~)]\n\nAbstract: Vitamin D status in spondyloarthritis: results of the ASAS-COMOSPA international study.\n\nFound relations:\n\nFor sentence \"Vitamin D deficiency has been associated with several inflammatory conditions (i.e. cardiovascular disease, rheumatoid arthritis), but it has been poorly evaluated in SpA patients.\":\n[[Vitamin, D, deficiency] (~)] <-> [[several, inflammatory, conditions] (~)]\n[[Vitamin, D, deficiency] (~)] <-> [[inflammatory, conditions] (~)]\n[[Vitamin, D, deficiency] (~)] <-> [[several, conditions] (~)]\n[[Vitamin, D, deficiency] (~)] <-> [[conditions] (~)]\n"
     ]
    }
   ],
   "source": [
    "\n",
    "for doc, relations_dict in docrels:\n",
    "    if relations_dict:\n",
    "        print(f\"\\nAbstract: {doc._.title}\")\n",
    "        # print(doc)\n",
    "        print(f\"\\nFound relations:\\n\")\n",
    "    for i, relations in relations_dict.items():\n",
    "        if relations:\n",
    "            print(f\"For sentence \\\"{list(doc.sents)[i]}\\\":\")\n",
    "            for relation in relations:\n",
    "                # I'm using a function to pretty-print the relation, but you should just access the objects directly :-)\n",
    "                print(grammar_analysis.pretty_print_relation(relation))"
   ]
  },
  {
   "cell_type": "code",
   "execution_count": null,
   "metadata": {},
   "outputs": [],
   "source": []
  }
 ]
}