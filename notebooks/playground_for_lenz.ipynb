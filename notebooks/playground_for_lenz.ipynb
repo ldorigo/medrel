{
 "metadata": {
  "language_info": {
   "codemirror_mode": {
    "name": "ipython",
    "version": 3
   },
   "file_extension": ".py",
   "mimetype": "text/x-python",
   "name": "python",
   "nbconvert_exporter": "python",
   "pygments_lexer": "ipython3",
   "version": "3.9.5"
  },
  "orig_nbformat": 4,
  "kernelspec": {
   "name": "python3",
   "display_name": "Python 3.9.5 64-bit ('medrel_venv')"
  },
  "interpreter": {
   "hash": "52c24ce130123b73e535b85727369ba421882d979ff550b824b3bb79020884ed"
  }
 },
 "nbformat": 4,
 "nbformat_minor": 2,
 "cells": [
  {
   "cell_type": "code",
   "execution_count": 1,
   "source": [
    "import sys"
   ],
   "outputs": [],
   "metadata": {}
  },
  {
   "cell_type": "code",
   "execution_count": null,
   "source": [
    "# This cell is only to make it run for Luca, ignore\n",
    "sys.path.remove('/home/ldorigo/scripts/biopython')\n",
    "sys.path.remove('/home/ldorigo/scripts/spaCy')"
   ],
   "outputs": [],
   "metadata": {}
  },
  {
   "cell_type": "code",
   "execution_count": 2,
   "source": [
    "sys.path.append('/workspace/medrel')"
   ],
   "outputs": [],
   "metadata": {}
  },
  {
   "cell_type": "code",
   "execution_count": 3,
   "source": [
    "# imports\n",
    "import itertools\n",
    "import argparse\n",
    "from typing import Generator\n",
    "from pathlib import Path\n",
    "from tqdm.std import tqdm\n",
    "import lib.pipe_pubmed as pipe_pubmed\n",
    "import lib.pipe_preprocessing as pipe_preprocessing\n",
    "import lib.pipe_spacy as pipe_spacy\n",
    "import lib.grammar_analysis as grammar_analysis\n",
    "import spacy"
   ],
   "outputs": [],
   "metadata": {}
  },
  {
   "cell_type": "code",
   "execution_count": 4,
   "source": [
    "# Autoreload extension allows to automatically reload modules that are changed (so you don't need to restard jupyter if you change code)"
   ],
   "outputs": [],
   "metadata": {}
  },
  {
   "cell_type": "code",
   "execution_count": 5,
   "source": [
    "%load_ext autoreload"
   ],
   "outputs": [],
   "metadata": {}
  },
  {
   "cell_type": "code",
   "execution_count": 6,
   "source": [
    "%autoreload 2"
   ],
   "outputs": [],
   "metadata": {}
  },
  {
   "cell_type": "markdown",
   "source": [
    "## Choose the query to submit to pubmed \n"
   ],
   "metadata": {}
  },
  {
   "cell_type": "code",
   "execution_count": 7,
   "source": [
    "query = \"spondylarthritis AND \\\"vitamin D\\\"\""
   ],
   "outputs": [],
   "metadata": {}
  },
  {
   "cell_type": "markdown",
   "source": [
    "## Setup various generators"
   ],
   "metadata": {}
  },
  {
   "cell_type": "code",
   "execution_count": null,
   "source": [
    "# Pubmed IDs corresponding to the query:\n",
    "total_ids, ids_generator = pipe_pubmed.get_pmids_generator(query=query)\n",
    "\n",
    "# Just to keep track of progress:\n",
    "def inner_gen() -> Generator[str, None, None]:\n",
    "    for progress, id in tqdm(ids_generator, total=total_ids):\n",
    "        yield id\n",
    "# Get raw abstracts from pubmed\n",
    "raw_abstracts_generator = pipe_pubmed.get_raw_abstracts_generator(inner_gen())\n",
    "\n",
    "# Convert them to text + metadata\n",
    "ag = pipe_pubmed.get_abstracts_generator(raw_abstracts_generator)\n",
    "\n",
    "# Preprocess (normalize unicode and whitespace and remove brackets)\n",
    "preprocessed_generator = pipe_preprocessing.get_preprocessed_abstracts_generator(ag)\n",
    "\n",
    "# Load language model\n",
    "nlp = spacy.load(\"en_core_sci_md\", exclude=[\"ner\"])\n",
    "\n",
    "# Parse abstracts into spacy docs\n",
    "raw_docs_generator = pipe_spacy.get_raw_doc_generator(preprocessed_generator, nlp)\n",
    "\n",
    "# Add metadata to the doc objects\n",
    "docs_generator = pipe_spacy.get_extended_doc_generator(raw_docs_generator)\n",
    "\n",
    "# First pass through the sentence to only consider sentences that may contain a relation\n",
    "relevant_sentences_generator = pipe_spacy.get_relevant_sentence_numbers_generator(\n",
    "    docs_generator\n",
    ")"
   ],
   "outputs": [],
   "metadata": {}
  },
  {
   "cell_type": "markdown",
   "source": [
    "Make this into a list so you can play around with the parsing without needing to re-download everything each time:"
   ],
   "metadata": {}
  },
  {
   "cell_type": "code",
   "execution_count": null,
   "source": [
    "docs_and_sents=  list(relevant_sentences_generator)"
   ],
   "outputs": [],
   "metadata": {}
  },
  {
   "cell_type": "markdown",
   "source": [
    "And finally, extract relations from those sentences:"
   ],
   "metadata": {}
  },
  {
   "cell_type": "code",
   "execution_count": null,
   "source": [
    "doc_relations_generator = grammar_analysis.get_relations_generator(\n",
    "    docs_and_sents\n",
    ")"
   ],
   "outputs": [],
   "metadata": {}
  },
  {
   "cell_type": "markdown",
   "source": [
    "The last iterator contains tuples of `(doc, Dict[int, Relations])` - i.e., one Doc corresponding to the abstract, the sentence numbers that contain relations and the relations found in those sentences. Example of how to see them:\n",
    "\n"
   ],
   "metadata": {}
  },
  {
   "cell_type": "code",
   "execution_count": null,
   "source": [
    "docrels = list(doc_relations_generator)"
   ],
   "outputs": [],
   "metadata": {}
  },
  {
   "cell_type": "code",
   "execution_count": null,
   "source": [
    "\n",
    "for doc, relations_dict in docrels:\n",
    "    if relations_dict:\n",
    "        print(f\"\\nAbstract: {doc._.title}\")\n",
    "        # print(doc)\n",
    "        print(f\"\\nFound relations:\\n\")\n",
    "    for i, relations in relations_dict.items():\n",
    "        if relations:\n",
    "            print(f\"For sentence \\\"{list(doc.sents)[i]}\\\":\")\n",
    "            for relation in relations:\n",
    "                # I'm using a function to pretty-print the relation, but you should just access the objects directly :-)\n",
    "                print(grammar_analysis.pretty_print_relation(relation))"
   ],
   "outputs": [],
   "metadata": {
    "tags": []
   }
  },
  {
   "cell_type": "code",
   "execution_count": null,
   "source": [],
   "outputs": [],
   "metadata": {}
  }
 ]
}