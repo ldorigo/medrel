{
 "cells": [
  {
   "cell_type": "markdown",
   "metadata": {},
   "source": [
    "# Preprocessing the abstracts"
   ]
  },
  {
   "cell_type": "markdown",
   "metadata": {},
   "source": [
    "The first step is to go from unicode to ASCII.\n",
    "The mappings are provided by another project."
   ]
  },
  {
   "cell_type": "code",
   "execution_count": 1,
   "metadata": {},
   "outputs": [
    {
     "name": "stderr",
     "output_type": "stream",
     "text": [
      "Created logger with name: utils\n",
      "Created logger with name: preprocess_abstracts\n",
      "2019-05-28 13:20:29,011 : INFO : Created logger with name: preprocess_abstracts\n",
      "Loaded modules\n",
      "2019-05-28 13:20:29,012 : INFO : Loaded modules\n"
     ]
    }
   ],
   "source": [
    "from utils import (\n",
    "    DATALOCATION_WIDGET, \n",
    "    get_data_dir,\n",
    "    load_if_not_present, \n",
    "    get_logger, \n",
    "    save_df, \n",
    "    SESSIONLOCATION_WIDGET\n",
    ")\n",
    "\n",
    "from abstract_manipulations import (\n",
    "    load_unicode_mappings,\n",
    "    unicode2ascii,\n",
    "    replace_abstract_abbreviations,\n",
    "    remove_brackets\n",
    ")\n",
    "\n",
    "from constants import (\n",
    "    TEXT_COLUMNS\n",
    ")\n",
    "from tqdm.auto import tqdm\n",
    "\n",
    "tqdm.pandas()\n",
    "abstracts_df = None\n",
    "\n",
    "logger = get_logger(\"preprocess_abstracts\")\n",
    "logger.info(\"Loaded modules\")\n",
    "unabbreviated_abstracts = None"
   ]
  },
  {
   "cell_type": "markdown",
   "metadata": {},
   "source": [
    "## Unicode to ASCII"
   ]
  },
  {
   "cell_type": "code",
   "execution_count": 2,
   "metadata": {},
   "outputs": [
    {
     "name": "stderr",
     "output_type": "stream",
     "text": [
      "Loaded raw_abstracts.csv from csv.\n",
      "2019-05-28 13:20:29,372 : DEBUG : Loaded raw_abstracts.csv from csv.\n"
     ]
    }
   ],
   "source": [
    "abstracts_df = load_if_not_present(abstracts_df, \"raw_abstracts.csv\")"
   ]
  },
  {
   "cell_type": "code",
   "execution_count": 3,
   "metadata": {},
   "outputs": [],
   "source": [
    "mappings = load_unicode_mappings(get_data_dir())"
   ]
  },
  {
   "cell_type": "code",
   "execution_count": 7,
   "metadata": {},
   "outputs": [
    {
     "data": {
      "text/html": [
       "<div>\n",
       "<style scoped>\n",
       "    .dataframe tbody tr th:only-of-type {\n",
       "        vertical-align: middle;\n",
       "    }\n",
       "\n",
       "    .dataframe tbody tr th {\n",
       "        vertical-align: top;\n",
       "    }\n",
       "\n",
       "    .dataframe thead th {\n",
       "        text-align: right;\n",
       "    }\n",
       "</style>\n",
       "<table border=\"1\" class=\"dataframe\">\n",
       "  <thead>\n",
       "    <tr style=\"text-align: right;\">\n",
       "      <th></th>\n",
       "      <th>background</th>\n",
       "      <th>objective</th>\n",
       "      <th>methods</th>\n",
       "      <th>conclusions</th>\n",
       "      <th>results</th>\n",
       "      <th>title</th>\n",
       "      <th>journal</th>\n",
       "      <th>pmid</th>\n",
       "      <th>date</th>\n",
       "    </tr>\n",
       "  </thead>\n",
       "  <tbody>\n",
       "    <tr>\n",
       "      <th>0</th>\n",
       "      <td>The TTM suggests that individuals in the actio...</td>\n",
       "      <td>To explore sexual behaviours and condom use an...</td>\n",
       "      <td>This was a descriptive, cross-sectional design...</td>\n",
       "      <td>Low levels of condom use among Taiwanese colle...</td>\n",
       "      <td>Of the 279 participants, 57% were sexually act...</td>\n",
       "      <td>Stages of condom use and decisional balance am...</td>\n",
       "      <td>International nursing review</td>\n",
       "      <td>19702809</td>\n",
       "      <td>1.268348e+09</td>\n",
       "    </tr>\n",
       "    <tr>\n",
       "      <th>1</th>\n",
       "      <td>The most significant prognostic factors for pa...</td>\n",
       "      <td></td>\n",
       "      <td>A total of 39 consecutive patients underwent a...</td>\n",
       "      <td>Our surgical technique, tMPDe, is safe and mor...</td>\n",
       "      <td>The tMPDe procedure was performed safely witho...</td>\n",
       "      <td>Appraisal of a total meso-pancreatoduodenum ex...</td>\n",
       "      <td>European journal of surgical oncology : the jo...</td>\n",
       "      <td>22575529</td>\n",
       "      <td>1.344809e+09</td>\n",
       "    </tr>\n",
       "    <tr>\n",
       "      <th>2</th>\n",
       "      <td></td>\n",
       "      <td>To investigate the efficacy and safety of the ...</td>\n",
       "      <td>This was a multi-centre, phase 3, randomized, ...</td>\n",
       "      <td>Linagliptin as add-on therapy to metformin and...</td>\n",
       "      <td>The placebo-corrected adjusted mean (se) chang...</td>\n",
       "      <td>Linagliptin improved glycaemic control without...</td>\n",
       "      <td>Diabetic medicine : a journal of the British D...</td>\n",
       "      <td>24824197</td>\n",
       "      <td>1.436479e+09</td>\n",
       "    </tr>\n",
       "    <tr>\n",
       "      <th>3</th>\n",
       "      <td></td>\n",
       "      <td>The study objective is to evaluate the clinica...</td>\n",
       "      <td>This is a retrospective case series of 17 adul...</td>\n",
       "      <td>Aggressive surgical management to achieve clea...</td>\n",
       "      <td>Chart review of the 17 identified subjects rev...</td>\n",
       "      <td>Malignant fibrous histiocytoma of the head and...</td>\n",
       "      <td>American journal of otolaryngology</td>\n",
       "      <td>22999710</td>\n",
       "      <td>1.368482e+09</td>\n",
       "    </tr>\n",
       "    <tr>\n",
       "      <th>4</th>\n",
       "      <td></td>\n",
       "      <td>To catalog the side effects of 2.4 atmospheres...</td>\n",
       "      <td>Fifty subjects diagnosed with TBI were randomi...</td>\n",
       "      <td>This study demonstrated no major adverse event...</td>\n",
       "      <td>These side effects were observed as rate (sham...</td>\n",
       "      <td>Hyperbaric side effects in a traumatic brain i...</td>\n",
       "      <td>Undersea &amp; hyperbaric medicine : journal of th...</td>\n",
       "      <td>23342764</td>\n",
       "      <td>1.359414e+09</td>\n",
       "    </tr>\n",
       "  </tbody>\n",
       "</table>\n",
       "</div>"
      ],
      "text/plain": [
       "                                          background  \\\n",
       "0  The TTM suggests that individuals in the actio...   \n",
       "1  The most significant prognostic factors for pa...   \n",
       "2                                                      \n",
       "3                                                      \n",
       "4                                                      \n",
       "\n",
       "                                           objective  \\\n",
       "0  To explore sexual behaviours and condom use an...   \n",
       "1                                                      \n",
       "2  To investigate the efficacy and safety of the ...   \n",
       "3  The study objective is to evaluate the clinica...   \n",
       "4  To catalog the side effects of 2.4 atmospheres...   \n",
       "\n",
       "                                             methods  \\\n",
       "0  This was a descriptive, cross-sectional design...   \n",
       "1  A total of 39 consecutive patients underwent a...   \n",
       "2  This was a multi-centre, phase 3, randomized, ...   \n",
       "3  This is a retrospective case series of 17 adul...   \n",
       "4  Fifty subjects diagnosed with TBI were randomi...   \n",
       "\n",
       "                                         conclusions  \\\n",
       "0  Low levels of condom use among Taiwanese colle...   \n",
       "1  Our surgical technique, tMPDe, is safe and mor...   \n",
       "2  Linagliptin as add-on therapy to metformin and...   \n",
       "3  Aggressive surgical management to achieve clea...   \n",
       "4  This study demonstrated no major adverse event...   \n",
       "\n",
       "                                             results  \\\n",
       "0  Of the 279 participants, 57% were sexually act...   \n",
       "1  The tMPDe procedure was performed safely witho...   \n",
       "2  The placebo-corrected adjusted mean (se) chang...   \n",
       "3  Chart review of the 17 identified subjects rev...   \n",
       "4  These side effects were observed as rate (sham...   \n",
       "\n",
       "                                               title  \\\n",
       "0  Stages of condom use and decisional balance am...   \n",
       "1  Appraisal of a total meso-pancreatoduodenum ex...   \n",
       "2  Linagliptin improved glycaemic control without...   \n",
       "3  Malignant fibrous histiocytoma of the head and...   \n",
       "4  Hyperbaric side effects in a traumatic brain i...   \n",
       "\n",
       "                                             journal      pmid          date  \n",
       "0                       International nursing review  19702809  1.268348e+09  \n",
       "1  European journal of surgical oncology : the jo...  22575529  1.344809e+09  \n",
       "2  Diabetic medicine : a journal of the British D...  24824197  1.436479e+09  \n",
       "3                 American journal of otolaryngology  22999710  1.368482e+09  \n",
       "4  Undersea & hyperbaric medicine : journal of th...  23342764  1.359414e+09  "
      ]
     },
     "execution_count": 7,
     "metadata": {},
     "output_type": "execute_result"
    }
   ],
   "source": [
    "abstracts_df.head()"
   ]
  },
  {
   "cell_type": "code",
   "execution_count": 11,
   "metadata": {},
   "outputs": [
    {
     "data": {
      "application/vnd.jupyter.widget-view+json": {
       "model_id": "1d2520bea8e34eed9594877cc6623c66",
       "version_major": 2,
       "version_minor": 0
      },
      "text/plain": [
       "HBox(children=(IntProgress(value=0, max=98931), HTML(value='')))"
      ]
     },
     "metadata": {},
     "output_type": "display_data"
    },
    {
     "name": "stdout",
     "output_type": "stream",
     "text": [
      "\n"
     ]
    }
   ],
   "source": [
    "ascii_abstracts = abstracts_df.copy()\n",
    "ascii_abstracts.iloc[:,0:6] = abstracts_df[TEXT_COLUMNS].progress_applymap(\n",
    "    lambda x: unicode2ascii(mappings, str(x)))\n",
    "save_df(ascii_abstracts, \"ascii_abstracts.csv\")"
   ]
  },
  {
   "cell_type": "markdown",
   "metadata": {},
   "source": [
    "## Abbreviation resolution"
   ]
  },
  {
   "cell_type": "code",
   "execution_count": 12,
   "metadata": {},
   "outputs": [
    {
     "data": {
      "application/vnd.jupyter.widget-view+json": {
       "model_id": "cc1178b29bcc42bba717fcb995e29c09",
       "version_major": 2,
       "version_minor": 0
      },
      "text/plain": [
       "HBox(children=(IntProgress(value=0, max=14133), HTML(value='')))"
      ]
     },
     "metadata": {},
     "output_type": "display_data"
    },
    {
     "name": "stdout",
     "output_type": "stream",
     "text": [
      "\n"
     ]
    }
   ],
   "source": [
    "unabbreviated_abstracts = ascii_abstracts.copy()\n",
    "unabbreviated_abstracts.iloc[:, 0:6] = ascii_abstracts.iloc[:, 0:6].progress_apply(\n",
    "    axis=1, func=replace_abstract_abbreviations)\n",
    "\n",
    "save_df(unabbreviated_abstracts, \"unabbreviated_abstracts.csv\")"
   ]
  },
  {
   "cell_type": "code",
   "execution_count": 13,
   "metadata": {},
   "outputs": [
    {
     "data": {
      "text/html": [
       "<div>\n",
       "<style scoped>\n",
       "    .dataframe tbody tr th:only-of-type {\n",
       "        vertical-align: middle;\n",
       "    }\n",
       "\n",
       "    .dataframe tbody tr th {\n",
       "        vertical-align: top;\n",
       "    }\n",
       "\n",
       "    .dataframe thead th {\n",
       "        text-align: right;\n",
       "    }\n",
       "</style>\n",
       "<table border=\"1\" class=\"dataframe\">\n",
       "  <thead>\n",
       "    <tr style=\"text-align: right;\">\n",
       "      <th></th>\n",
       "      <th>background</th>\n",
       "      <th>objective</th>\n",
       "      <th>methods</th>\n",
       "      <th>conclusions</th>\n",
       "      <th>results</th>\n",
       "      <th>title</th>\n",
       "      <th>journal</th>\n",
       "      <th>pmid</th>\n",
       "      <th>date</th>\n",
       "    </tr>\n",
       "  </thead>\n",
       "  <tbody>\n",
       "    <tr>\n",
       "      <th>0</th>\n",
       "      <td>The  Transtheoretical Model suggests that indi...</td>\n",
       "      <td>To explore sexual behaviours and condom use an...</td>\n",
       "      <td>This was a descriptive, cross-sectional design...</td>\n",
       "      <td>Low levels of condom use among Taiwanese colle...</td>\n",
       "      <td>Of the 279 participants, 57% were sexually act...</td>\n",
       "      <td>Stages of condom use and decisional balance am...</td>\n",
       "      <td>International nursing review</td>\n",
       "      <td>19702809</td>\n",
       "      <td>1.268348e+09</td>\n",
       "    </tr>\n",
       "    <tr>\n",
       "      <th>1</th>\n",
       "      <td>The most significant prognostic factors for pa...</td>\n",
       "      <td></td>\n",
       "      <td>A total of 39 consecutive patients underwent a...</td>\n",
       "      <td>Our surgical technique, tMPDe, is safe and mor...</td>\n",
       "      <td>The tMPDe procedure was performed safely witho...</td>\n",
       "      <td>Appraisal of a total meso-pancreatoduodenum ex...</td>\n",
       "      <td>European journal of surgical oncology : the jo...</td>\n",
       "      <td>22575529</td>\n",
       "      <td>1.344809e+09</td>\n",
       "    </tr>\n",
       "    <tr>\n",
       "      <th>2</th>\n",
       "      <td></td>\n",
       "      <td>To investigate the efficacy and safety of the ...</td>\n",
       "      <td>This was a multi-centre, phase3, randomized, d...</td>\n",
       "      <td>Linagliptin as add-on therapy to metformin and...</td>\n",
       "      <td>The placebo-corrected adjusted mean (se) chang...</td>\n",
       "      <td>Linagliptin improved glycaemic control without...</td>\n",
       "      <td>Diabetic medicine : a journal of the British D...</td>\n",
       "      <td>24824197</td>\n",
       "      <td>1.436479e+09</td>\n",
       "    </tr>\n",
       "    <tr>\n",
       "      <th>3</th>\n",
       "      <td></td>\n",
       "      <td>The study objective is to evaluate the clinica...</td>\n",
       "      <td>This is a retrospective case series of 17 adul...</td>\n",
       "      <td>Aggressive surgical management to achieve clea...</td>\n",
       "      <td>Chart review of the 17 identified subjects rev...</td>\n",
       "      <td>Malignant fibrous histiocytoma of the head and...</td>\n",
       "      <td>American journal of otolaryngology</td>\n",
       "      <td>22999710</td>\n",
       "      <td>1.368482e+09</td>\n",
       "    </tr>\n",
       "    <tr>\n",
       "      <th>4</th>\n",
       "      <td></td>\n",
       "      <td>To catalog the side effects of 2.4 atmospheres...</td>\n",
       "      <td>Fifty subjects diagnosed with  traumatic brain...</td>\n",
       "      <td>This study demonstrated no major adverse event...</td>\n",
       "      <td>These side effects were observed as rate (sham...</td>\n",
       "      <td>Hyperbaric side effects in a traumatic brain i...</td>\n",
       "      <td>Undersea &amp; hyperbaric medicine : journal of th...</td>\n",
       "      <td>23342764</td>\n",
       "      <td>1.359414e+09</td>\n",
       "    </tr>\n",
       "  </tbody>\n",
       "</table>\n",
       "</div>"
      ],
      "text/plain": [
       "                                          background  \\\n",
       "0  The  Transtheoretical Model suggests that indi...   \n",
       "1  The most significant prognostic factors for pa...   \n",
       "2                                                      \n",
       "3                                                      \n",
       "4                                                      \n",
       "\n",
       "                                           objective  \\\n",
       "0  To explore sexual behaviours and condom use an...   \n",
       "1                                                      \n",
       "2  To investigate the efficacy and safety of the ...   \n",
       "3  The study objective is to evaluate the clinica...   \n",
       "4  To catalog the side effects of 2.4 atmospheres...   \n",
       "\n",
       "                                             methods  \\\n",
       "0  This was a descriptive, cross-sectional design...   \n",
       "1  A total of 39 consecutive patients underwent a...   \n",
       "2  This was a multi-centre, phase3, randomized, d...   \n",
       "3  This is a retrospective case series of 17 adul...   \n",
       "4  Fifty subjects diagnosed with  traumatic brain...   \n",
       "\n",
       "                                         conclusions  \\\n",
       "0  Low levels of condom use among Taiwanese colle...   \n",
       "1  Our surgical technique, tMPDe, is safe and mor...   \n",
       "2  Linagliptin as add-on therapy to metformin and...   \n",
       "3  Aggressive surgical management to achieve clea...   \n",
       "4  This study demonstrated no major adverse event...   \n",
       "\n",
       "                                             results  \\\n",
       "0  Of the 279 participants, 57% were sexually act...   \n",
       "1  The tMPDe procedure was performed safely witho...   \n",
       "2  The placebo-corrected adjusted mean (se) chang...   \n",
       "3  Chart review of the 17 identified subjects rev...   \n",
       "4  These side effects were observed as rate (sham...   \n",
       "\n",
       "                                               title  \\\n",
       "0  Stages of condom use and decisional balance am...   \n",
       "1  Appraisal of a total meso-pancreatoduodenum ex...   \n",
       "2  Linagliptin improved glycaemic control without...   \n",
       "3  Malignant fibrous histiocytoma of the head and...   \n",
       "4  Hyperbaric side effects in a traumatic brain i...   \n",
       "\n",
       "                                             journal      pmid          date  \n",
       "0                       International nursing review  19702809  1.268348e+09  \n",
       "1  European journal of surgical oncology : the jo...  22575529  1.344809e+09  \n",
       "2  Diabetic medicine : a journal of the British D...  24824197  1.436479e+09  \n",
       "3                 American journal of otolaryngology  22999710  1.368482e+09  \n",
       "4  Undersea & hyperbaric medicine : journal of th...  23342764  1.359414e+09  "
      ]
     },
     "execution_count": 13,
     "metadata": {},
     "output_type": "execute_result"
    }
   ],
   "source": [
    "unabbreviated_abstracts.head()"
   ]
  },
  {
   "cell_type": "markdown",
   "metadata": {},
   "source": [
    "unabbreviated_abstracts"
   ]
  },
  {
   "cell_type": "code",
   "execution_count": 15,
   "metadata": {},
   "outputs": [
    {
     "name": "stderr",
     "output_type": "stream",
     "text": [
      "Reusing previously defined df.\n",
      "2019-05-28 13:23:56,550 : DEBUG : Reusing previously defined df.\n"
     ]
    },
    {
     "data": {
      "application/vnd.jupyter.widget-view+json": {
       "model_id": "cee9bcf93e8548b090ef1b28d48d18b1",
       "version_major": 2,
       "version_minor": 0
      },
      "text/plain": [
       "HBox(children=(IntProgress(value=0, max=98931), HTML(value='')))"
      ]
     },
     "metadata": {},
     "output_type": "display_data"
    },
    {
     "name": "stdout",
     "output_type": "stream",
     "text": [
      "\n"
     ]
    }
   ],
   "source": [
    "abstracts_noparens = load_if_not_present(unabbreviated_abstracts, \"unabbreviated_abstracts.csv\")\n",
    "abstracts_noparens.iloc[:,0:6] = abstracts_noparens[TEXT_COLUMNS].progress_applymap(remove_brackets)\n",
    "save_df(abstracts_noparens, \"abstracts_noparens.csv\")"
   ]
  },
  {
   "cell_type": "code",
   "execution_count": 16,
   "metadata": {},
   "outputs": [
    {
     "data": {
      "text/html": [
       "<div>\n",
       "<style scoped>\n",
       "    .dataframe tbody tr th:only-of-type {\n",
       "        vertical-align: middle;\n",
       "    }\n",
       "\n",
       "    .dataframe tbody tr th {\n",
       "        vertical-align: top;\n",
       "    }\n",
       "\n",
       "    .dataframe thead th {\n",
       "        text-align: right;\n",
       "    }\n",
       "</style>\n",
       "<table border=\"1\" class=\"dataframe\">\n",
       "  <thead>\n",
       "    <tr style=\"text-align: right;\">\n",
       "      <th></th>\n",
       "      <th>background</th>\n",
       "      <th>objective</th>\n",
       "      <th>methods</th>\n",
       "      <th>conclusions</th>\n",
       "      <th>results</th>\n",
       "      <th>title</th>\n",
       "      <th>journal</th>\n",
       "      <th>pmid</th>\n",
       "      <th>date</th>\n",
       "    </tr>\n",
       "  </thead>\n",
       "  <tbody>\n",
       "    <tr>\n",
       "      <th>0</th>\n",
       "      <td>The Transtheoretical Model suggests that indiv...</td>\n",
       "      <td>To explore sexual behaviours and condom use an...</td>\n",
       "      <td>This was a descriptive, cross-sectional design...</td>\n",
       "      <td>Low levels of condom use among Taiwanese colle...</td>\n",
       "      <td>Of the 279 participants, 57% were sexually act...</td>\n",
       "      <td>Stages of condom use and decisional balance am...</td>\n",
       "      <td>International nursing review</td>\n",
       "      <td>19702809</td>\n",
       "      <td>1.268348e+09</td>\n",
       "    </tr>\n",
       "    <tr>\n",
       "      <th>1</th>\n",
       "      <td>The most significant prognostic factors for pa...</td>\n",
       "      <td></td>\n",
       "      <td>A total of 39 consecutive patients underwent a...</td>\n",
       "      <td>Our surgical technique, tMPDe, is safe and mor...</td>\n",
       "      <td>The tMPDe procedure was performed safely witho...</td>\n",
       "      <td>Appraisal of a total meso-pancreatoduodenum ex...</td>\n",
       "      <td>European journal of surgical oncology : the jo...</td>\n",
       "      <td>22575529</td>\n",
       "      <td>1.344809e+09</td>\n",
       "    </tr>\n",
       "    <tr>\n",
       "      <th>2</th>\n",
       "      <td></td>\n",
       "      <td>To investigate the efficacy and safety of the ...</td>\n",
       "      <td>This was a multi-centre, phase3, randomized, d...</td>\n",
       "      <td>Linagliptin as add-on therapy to metformin and...</td>\n",
       "      <td>The placebo-corrected adjusted mean change in ...</td>\n",
       "      <td>Linagliptin improved glycaemic control without...</td>\n",
       "      <td>Diabetic medicine : a journal of the British D...</td>\n",
       "      <td>24824197</td>\n",
       "      <td>1.436479e+09</td>\n",
       "    </tr>\n",
       "    <tr>\n",
       "      <th>3</th>\n",
       "      <td></td>\n",
       "      <td>The study objective is to evaluate the clinica...</td>\n",
       "      <td>This is a retrospective case series of 17 adul...</td>\n",
       "      <td>Aggressive surgical management to achieve clea...</td>\n",
       "      <td>Chart review of the 17 identified subjects rev...</td>\n",
       "      <td>Malignant fibrous histiocytoma of the head and...</td>\n",
       "      <td>American journal of otolaryngology</td>\n",
       "      <td>22999710</td>\n",
       "      <td>1.368482e+09</td>\n",
       "    </tr>\n",
       "    <tr>\n",
       "      <th>4</th>\n",
       "      <td></td>\n",
       "      <td>To catalog the side effects of 2.4 atmospheres...</td>\n",
       "      <td>Fifty subjects diagnosed with traumatic brain ...</td>\n",
       "      <td>This study demonstrated no major adverse event...</td>\n",
       "      <td>These side effects were observed as rate : ear...</td>\n",
       "      <td>Hyperbaric side effects in a traumatic brain i...</td>\n",
       "      <td>Undersea &amp; hyperbaric medicine : journal of th...</td>\n",
       "      <td>23342764</td>\n",
       "      <td>1.359414e+09</td>\n",
       "    </tr>\n",
       "  </tbody>\n",
       "</table>\n",
       "</div>"
      ],
      "text/plain": [
       "                                          background  \\\n",
       "0  The Transtheoretical Model suggests that indiv...   \n",
       "1  The most significant prognostic factors for pa...   \n",
       "2                                                      \n",
       "3                                                      \n",
       "4                                                      \n",
       "\n",
       "                                           objective  \\\n",
       "0  To explore sexual behaviours and condom use an...   \n",
       "1                                                      \n",
       "2  To investigate the efficacy and safety of the ...   \n",
       "3  The study objective is to evaluate the clinica...   \n",
       "4  To catalog the side effects of 2.4 atmospheres...   \n",
       "\n",
       "                                             methods  \\\n",
       "0  This was a descriptive, cross-sectional design...   \n",
       "1  A total of 39 consecutive patients underwent a...   \n",
       "2  This was a multi-centre, phase3, randomized, d...   \n",
       "3  This is a retrospective case series of 17 adul...   \n",
       "4  Fifty subjects diagnosed with traumatic brain ...   \n",
       "\n",
       "                                         conclusions  \\\n",
       "0  Low levels of condom use among Taiwanese colle...   \n",
       "1  Our surgical technique, tMPDe, is safe and mor...   \n",
       "2  Linagliptin as add-on therapy to metformin and...   \n",
       "3  Aggressive surgical management to achieve clea...   \n",
       "4  This study demonstrated no major adverse event...   \n",
       "\n",
       "                                             results  \\\n",
       "0  Of the 279 participants, 57% were sexually act...   \n",
       "1  The tMPDe procedure was performed safely witho...   \n",
       "2  The placebo-corrected adjusted mean change in ...   \n",
       "3  Chart review of the 17 identified subjects rev...   \n",
       "4  These side effects were observed as rate : ear...   \n",
       "\n",
       "                                               title  \\\n",
       "0  Stages of condom use and decisional balance am...   \n",
       "1  Appraisal of a total meso-pancreatoduodenum ex...   \n",
       "2  Linagliptin improved glycaemic control without...   \n",
       "3  Malignant fibrous histiocytoma of the head and...   \n",
       "4  Hyperbaric side effects in a traumatic brain i...   \n",
       "\n",
       "                                             journal      pmid          date  \n",
       "0                       International nursing review  19702809  1.268348e+09  \n",
       "1  European journal of surgical oncology : the jo...  22575529  1.344809e+09  \n",
       "2  Diabetic medicine : a journal of the British D...  24824197  1.436479e+09  \n",
       "3                 American journal of otolaryngology  22999710  1.368482e+09  \n",
       "4  Undersea & hyperbaric medicine : journal of th...  23342764  1.359414e+09  "
      ]
     },
     "execution_count": 16,
     "metadata": {},
     "output_type": "execute_result"
    }
   ],
   "source": [
    "abstracts_noparens.head()"
   ]
  },
  {
   "cell_type": "code",
   "execution_count": null,
   "metadata": {},
   "outputs": [],
   "source": []
  }
 ],
 "metadata": {
  "kernelspec": {
   "display_name": "Python [conda env:quickumls]",
   "language": "python",
   "name": "conda-env-quickumls-py"
  },
  "language_info": {
   "codemirror_mode": {
    "name": "ipython",
    "version": 3
   },
   "file_extension": ".py",
   "mimetype": "text/x-python",
   "name": "python",
   "nbconvert_exporter": "python",
   "pygments_lexer": "ipython3",
   "version": "3.6.8"
  }
 },
 "nbformat": 4,
 "nbformat_minor": 2
}
